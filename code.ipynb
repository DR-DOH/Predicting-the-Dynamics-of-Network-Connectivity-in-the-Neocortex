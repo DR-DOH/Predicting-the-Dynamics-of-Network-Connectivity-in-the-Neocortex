{
 "cells": [
  {
   "cell_type": "code",
   "execution_count": null,
   "id": "1df0ced2",
   "metadata": {},
   "outputs": [],
   "source": [
    "import pandas as pd\n",
    "import numpy as np\n",
    "import matplotlib.pyplot as plt\n",
    "from collections import Counter\n",
    "from scipy.optimize import curve_fit\n",
    "from sklearn.linear_model import LogisticRegression\n",
    "from sklearn import *\n",
    "from sklearn.preprocessing import StandardScaler\n",
    "from sklearn.metrics import log_loss\n",
    "import statsmodels.api as sm\n",
    "from sklearn.neighbors import KNeighborsClassifier\n",
    "from sklearn.model_selection import train_test_split\n",
    "from sklearn.metrics import classification_report\n",
    "from scipy.stats import sem\n",
    "import scipy"
   ]
  },
  {
   "cell_type": "code",
   "execution_count": null,
   "id": "bf55a839",
   "metadata": {},
   "outputs": [],
   "source": [
    "df = pd.read_csv('publication_data.csv')"
   ]
  },
  {
   "cell_type": "code",
   "execution_count": null,
   "id": "3f022b87",
   "metadata": {},
   "outputs": [],
   "source": [
    "data = {}\n",
    "for i in range(1,9):\n",
    "    data[\"Neuron{0}\".format(i)] = {}"
   ]
  },
  {
   "cell_type": "code",
   "execution_count": null,
   "id": "d9d4f453",
   "metadata": {},
   "outputs": [],
   "source": [
    "for i in range (1,9):\n",
    "    temp = df[df.Neuron_Index == i]\n",
    "    dendrite_values = set(temp.Dendrite_Index)\n",
    "    for j in dendrite_values:\n",
    "        data[\"Neuron{0}\".format(i)][\"Dendrite{0}\".format(j)] = {}\n",
    "        for k in range (1,7):\n",
    "            temp2 = temp[temp.Dendrite_Index == j]\n",
    "            data[\"Neuron{0}\".format(i)][\"Dendrite{0}\".format(j)][\"Session{0}\".format(k)] = temp2[temp2.Imaging_Session == k]"
   ]
  },
  {
   "cell_type": "code",
   "execution_count": null,
   "id": "c842a4b5",
   "metadata": {},
   "outputs": [],
   "source": [
    "for l in range (1,9):\n",
    "    temp = df[df.Neuron_Index == l]\n",
    "    dendrite_values = set(temp.Dendrite_Index)\n",
    "    data[\"Neuron{0}\".format(l)][\"Dendrite_Values\"] = np.array(list(dendrite_values))\n",
    "    for k in dendrite_values:\n",
    "        spines = np.array([],dtype = 'int')\n",
    "        for i in range (1,7):\n",
    "            x = np.array(data[\"Neuron{0}\".format(l)][\"Dendrite{0}\".format(k)][\"Session{0}\".format(i)][\"Spine_Index\"].values)\n",
    "            x = x.flatten()\n",
    "            spines = np.append(spines,x)\n",
    "        spines = set(sorted(spines))\n",
    "        d = {}\n",
    "        a = {}\n",
    "        for i in spines:\n",
    "            d[i] = [0,0]\n",
    "        for i in range (1,7):\n",
    "            x = np.array(data[\"Neuron{0}\".format(l)][\"Dendrite{0}\".format(k)][\"Session{0}\".format(i)][\"Spine_Index\"].values)\n",
    "            for j in x:\n",
    "                if d[j][0] == 0:\n",
    "                    d[j][0] = i\n",
    "                    d[j][1] = i\n",
    "                else:\n",
    "                    d[j][1] = i\n",
    "                a[j] = d[j][1] - d[j][0]\n",
    "        data[\"Neuron{0}\".format(l)][\"Dendrite{0}\".format(k)][\"Survival\"] = d\n",
    "        data[\"Neuron{0}\".format(l)][\"Dendrite{0}\".format(k)][\"Age\"] = a"
   ]
  },
  {
   "cell_type": "code",
   "execution_count": null,
   "id": "8cf61c5b",
   "metadata": {},
   "outputs": [],
   "source": [
    "v_all = np.empty([])\n",
    "for i in range (1,9):\n",
    "    temp = df[df.Neuron_Index == i]\n",
    "    dendrite_values = set(temp.Dendrite_Index)\n",
    "    for j in dendrite_values:\n",
    "        for k in range (1,7):\n",
    "                v_all = np.append(v_all,np.array(list(data[\"Neuron{0}\".format(i)][\"Dendrite{0}\".format(j)][\"Session{0}\".format(k)][\"V\"])).reshape(-1,1))\n",
    "v_all = v_all[1:].reshape(-1,1)\n",
    "v_all = StandardScaler().fit_transform(v_all)"
   ]
  },
  {
   "cell_type": "code",
   "execution_count": null,
   "id": "5cfbbe83",
   "metadata": {},
   "outputs": [],
   "source": [
    "v_all = np.array(sorted(v_all)).reshape(-1,1)\n",
    "sum(v_all > 1)\n",
    "v_all = v_all[:-1057]"
   ]
  },
  {
   "cell_type": "code",
   "execution_count": null,
   "id": "c06c0e33",
   "metadata": {},
   "outputs": [],
   "source": [
    "v_all"
   ]
  },
  {
   "cell_type": "code",
   "execution_count": null,
   "id": "9a9f23b2",
   "metadata": {},
   "outputs": [],
   "source": [
    "_, bins, _ = plt.hist(v_all, 100,density = 1)\n",
    "mu, sigma = scipy.stats.norm.fit(v_all)\n",
    "best_fit_line = scipy.stats.norm.pdf(bins, mu, sigma)\n",
    "plt.plot(bins, best_fit_line)"
   ]
  },
  {
   "cell_type": "code",
   "execution_count": null,
   "id": "dffd8e42",
   "metadata": {},
   "outputs": [],
   "source": [
    "len(v_all)"
   ]
  },
  {
   "cell_type": "code",
   "execution_count": null,
   "id": "273b83e6",
   "metadata": {},
   "outputs": [],
   "source": [
    "spines_all = np.empty([0,2])\n",
    "for i in range (1,9):\n",
    "    dendrite_values = data[\"Neuron{0}\".format(i)][\"Dendrite_Values\"]\n",
    "    for j in dendrite_values:\n",
    "        survivals = data[\"Neuron{0}\".format(i)][\"Dendrite{0}\".format(j)][\"Survival\"]\n",
    "        spines_all = np.append(spines_all,np.array(list(survivals.values())),axis = 0)"
   ]
  },
  {
   "cell_type": "code",
   "execution_count": null,
   "id": "78399b9b",
   "metadata": {},
   "outputs": [],
   "source": [
    "x = spines_all[spines_all[:,0].argsort()]"
   ]
  },
  {
   "cell_type": "code",
   "execution_count": null,
   "id": "c7f5986b",
   "metadata": {},
   "outputs": [],
   "source": [
    "x = sorted(x , key = lambda x : (x[0],-1*x[1]))"
   ]
  },
  {
   "cell_type": "code",
   "execution_count": null,
   "id": "40ce2d18",
   "metadata": {
    "scrolled": true
   },
   "outputs": [],
   "source": [
    "for i in range(len(x)):\n",
    "    plt.hlines(i+1,(x[i][0]-1) * 4 - 2, (x[i][1]) * 4 - 2)\n",
    "plt.ylabel(\"Spine Number\")\n",
    "plt.xlabel(\"Time (days)\")\n",
    "plt.xticks([0,4,8,12,16,20])"
   ]
  },
  {
   "cell_type": "code",
   "execution_count": null,
   "id": "d89d7ecd",
   "metadata": {
    "scrolled": true
   },
   "outputs": [],
   "source": [
    "neuron_count = []\n",
    "for i in range (1,9):\n",
    "    temp = df[df.Neuron_Index == i]\n",
    "    dendrite_values = set(temp.Dendrite_Index)\n",
    "    count = np.zeros((6,1))\n",
    "    for j in dendrite_values:\n",
    "        for k in range (1,7):\n",
    "                count[k-1] += len(data[\"Neuron{0}\".format(i)][\"Dendrite{0}\".format(j)][\"Session{0}\".format(k)])\n",
    "    neuron_count.append(count)      "
   ]
  },
  {
   "cell_type": "code",
   "execution_count": null,
   "id": "b01ff5ff",
   "metadata": {},
   "outputs": [],
   "source": [
    "for i in range(8):\n",
    "    plt.plot(np.linspace(0,5,6),neuron_count[i],marker = 'o')\n",
    "plt.xticks([0,1,2,3,4,5],[0,4,8,12,16,20])\n",
    "plt.xlabel(\"Time (Days)\")\n",
    "plt.ylabel(\"Number of Spines Imaged\")"
   ]
  },
  {
   "cell_type": "code",
   "execution_count": null,
   "id": "83a71ef0",
   "metadata": {},
   "outputs": [],
   "source": [
    "x1 = np.array(x[:1420])"
   ]
  },
  {
   "cell_type": "code",
   "execution_count": null,
   "id": "9cc4e72d",
   "metadata": {},
   "outputs": [],
   "source": [
    "survival = x1[:,1] - x1[:,0]\n",
    "counts = Counter(survival)"
   ]
  },
  {
   "cell_type": "code",
   "execution_count": null,
   "id": "b8303fdc",
   "metadata": {},
   "outputs": [],
   "source": [
    "vals = np.array(list(counts.values()))\n",
    "survival = []\n",
    "for i in range(1,6):\n",
    "    survival = np.append(survival,sum(vals[:-i]))"
   ]
  },
  {
   "cell_type": "code",
   "execution_count": null,
   "id": "3c3f2ffe",
   "metadata": {},
   "outputs": [],
   "source": [
    "survival = np.insert(survival,0,1420)\n",
    "survival"
   ]
  },
  {
   "cell_type": "code",
   "execution_count": null,
   "id": "c26ff3f3",
   "metadata": {},
   "outputs": [],
   "source": [
    "prob = survival/1420"
   ]
  },
  {
   "cell_type": "code",
   "execution_count": null,
   "id": "de4adb22",
   "metadata": {},
   "outputs": [],
   "source": [
    "plt.plot(np.linspace(0,5,6)*4,prob,marker='o')\n",
    "plt.ylim(0,1)\n",
    "plt.ylabel(\"Probability of Survival\")\n",
    "plt.xlabel(\"Time (days)\")\n",
    "plt.xticks([0,4,8,12,16,20])"
   ]
  },
  {
   "cell_type": "code",
   "execution_count": null,
   "id": "a6a27cad",
   "metadata": {},
   "outputs": [],
   "source": [
    "x_new = np.array(x[1420:3281])"
   ]
  },
  {
   "cell_type": "code",
   "execution_count": null,
   "id": "0376cbd7",
   "metadata": {},
   "outputs": [],
   "source": [
    "imaged = []\n",
    "cumu = 0\n",
    "for i in range(2,6):\n",
    "    a = x_new[:,0] == i\n",
    "    cumu = cumu + sum(a)\n",
    "    imaged.append(cumu)"
   ]
  },
  {
   "cell_type": "code",
   "execution_count": null,
   "id": "c557fb46",
   "metadata": {},
   "outputs": [],
   "source": [
    "imaged = sorted(imaged,reverse = True)\n",
    "imaged"
   ]
  },
  {
   "cell_type": "code",
   "execution_count": null,
   "id": "74d6398c",
   "metadata": {},
   "outputs": [],
   "source": [
    "sessions_survived = x_new[:,1] - x_new[:,0]\n",
    "sessions_survived"
   ]
  },
  {
   "cell_type": "code",
   "execution_count": null,
   "id": "3051b015",
   "metadata": {},
   "outputs": [],
   "source": [
    "counts = Counter(sessions_survived)\n",
    "counts"
   ]
  },
  {
   "cell_type": "code",
   "execution_count": null,
   "id": "a5158882",
   "metadata": {},
   "outputs": [],
   "source": [
    "vals = np.array(list(counts.values()))\n",
    "survival = []\n",
    "for i in range(1,5):\n",
    "    survival = np.append(survival,sum(vals[:-i]))"
   ]
  },
  {
   "cell_type": "code",
   "execution_count": null,
   "id": "8e563d5a",
   "metadata": {},
   "outputs": [],
   "source": [
    "survival\n",
    "prob = survival/imaged\n",
    "prob = np.insert(prob,0,1)\n",
    "prob"
   ]
  },
  {
   "cell_type": "code",
   "execution_count": null,
   "id": "d0db8186",
   "metadata": {},
   "outputs": [],
   "source": [
    "def fun(x,gamma):\n",
    "    return ((1+x)**(-gamma))"
   ]
  },
  {
   "cell_type": "code",
   "execution_count": null,
   "id": "200705b2",
   "metadata": {},
   "outputs": [],
   "source": [
    "coeff,_ = curve_fit(fun,np.linspace(0,4,5),prob)"
   ]
  },
  {
   "cell_type": "code",
   "execution_count": null,
   "id": "82e93749",
   "metadata": {},
   "outputs": [],
   "source": [
    "coeff[0]"
   ]
  },
  {
   "cell_type": "code",
   "execution_count": null,
   "id": "db856e37",
   "metadata": {
    "scrolled": true
   },
   "outputs": [],
   "source": [
    "plt.plot(np.linspace(0,4,5),prob,marker = 'o')\n",
    "plt.plot(np.linspace(0,4,100),fun(np.linspace(0,4,100),1.384),linestyle='dashed')\n",
    "plt.ylim(0,1)\n",
    "plt.ylabel(\"Probability of Survival\")\n",
    "plt.xlabel(\"Time (days)\")\n",
    "plt.xticks([0,1,2,3,4],[0,4,8,12,16])"
   ]
  },
  {
   "cell_type": "code",
   "execution_count": null,
   "id": "bdb08029",
   "metadata": {
    "scrolled": true
   },
   "outputs": [],
   "source": [
    "for i in range (1,9):\n",
    "    temp = df[df.Neuron_Index == i]\n",
    "    dendrite_values = set(temp.Dendrite_Index)\n",
    "    for j in dendrite_values:\n",
    "        for k in range (1,7):\n",
    "            fo = []\n",
    "            lo = []\n",
    "            age = []\n",
    "            for l in data[\"Neuron{0}\".format(i)][\"Dendrite{0}\".format(j)][\"Session{0}\".format(k)][\"Spine_Index\"]:\n",
    "                fo.append(data[\"Neuron{0}\".format(i)][\"Dendrite{0}\".format(j)][\"Survival\"][l][0])\n",
    "                lo.append(data[\"Neuron{0}\".format(i)][\"Dendrite{0}\".format(j)][\"Survival\"][l][1])\n",
    "                if fo[-1] == 1:\n",
    "                    age.append(float('inf'))\n",
    "                else:\n",
    "                    age.append(k-fo[-1])\n",
    "            data[\"Neuron{0}\".format(i)][\"Dendrite{0}\".format(j)][\"Session{0}\".format(k)][\"First_Observed\"] = fo \n",
    "            data[\"Neuron{0}\".format(i)][\"Dendrite{0}\".format(j)][\"Session{0}\".format(k)][\"Last_Observed\"] = lo\n",
    "            data[\"Neuron{0}\".format(i)][\"Dendrite{0}\".format(j)][\"Session{0}\".format(k)][\"Current_Age\"] = age\n",
    "            data[\"Neuron{0}\".format(i)][\"Dendrite{0}\".format(j)][\"Session{0}\".format(k)][\"Sessions_Survived\"] = np.array(lo) - np.array(fo)\n",
    "            l1 = np.array(data[\"Neuron{0}\".format(i)][\"Dendrite{0}\".format(j)][\"Session{0}\".format(k)][\"lambda1\"])\n",
    "            l2 = np.array(data[\"Neuron{0}\".format(i)][\"Dendrite{0}\".format(j)][\"Session{0}\".format(k)][\"lambda2\"])\n",
    "            data[\"Neuron{0}\".format(i)][\"Dendrite{0}\".format(j)][\"Session{0}\".format(k)][\"S\"] = (l1 - l2)/(l1 + l2)"
   ]
  },
  {
   "cell_type": "code",
   "execution_count": null,
   "id": "0b40d333",
   "metadata": {},
   "outputs": [],
   "source": [
    "age_wise = {\"age0\" : pd.DataFrame(),\"age1\" : pd.DataFrame(),\"age2\" : pd.DataFrame(),\"age3\" : pd.DataFrame(),\"older\" : pd.DataFrame()}\n",
    "for i in range (1,9):\n",
    "    temp = df[df.Neuron_Index == i]\n",
    "    dendrite_values = set(temp.Dendrite_Index)\n",
    "    for j in dendrite_values:\n",
    "        for k in range (1,6):\n",
    "            for l in range (4):\n",
    "                x = (data[\"Neuron{0}\".format(i)][\"Dendrite{0}\".format(j)][\"Session{0}\".format(k)][\"Current_Age\"] == l)\n",
    "                age_wise[\"age{0}\".format(l)] = age_wise[\"age{0}\".format(l)].append(data[\"Neuron{0}\".format(i)][\"Dendrite{0}\".format(j)][\"Session{0}\".format(k)][x])\n",
    "            \n",
    "        x = (data[\"Neuron{0}\".format(i)][\"Dendrite{0}\".format(j)][\"Session5\"][\"Sessions_Survived\"] > 3)\n",
    "        age_wise[\"older\"] = age_wise[\"older\"].append(data[\"Neuron{0}\".format(i)][\"Dendrite{0}\".format(j)][\"Session5\"][x])\n",
    "            "
   ]
  },
  {
   "cell_type": "code",
   "execution_count": null,
   "id": "9d3b9eb0",
   "metadata": {},
   "outputs": [],
   "source": [
    "print(len(age_wise[\"age0\"]),len(age_wise[\"age1\"]),len(age_wise[\"age2\"]),len(age_wise[\"age3\"]),len(age_wise[\"older\"]))"
   ]
  },
  {
   "cell_type": "markdown",
   "id": "30be5b92",
   "metadata": {},
   "source": [
    "### Age-Size Model"
   ]
  },
  {
   "cell_type": "markdown",
   "id": "3fe8de2a",
   "metadata": {},
   "source": [
    "for i in age_wise:\n",
    "    survival = []\n",
    "    for index,j in age_wise[i].iterrows():\n",
    "        if sum(data[\"Neuron\"+str(int(j.Neuron_Index))][\"Dendrite\"+str(int(j.Dendrite_Index))][\"Session\"+str(int(j.Imaging_Session + 1))].Spine_Index == j.Spine_Index):\n",
    "            survival.append(1)\n",
    "        else:\n",
    "            survival.append(0)\n",
    "    age_wise[i][\"Survival\"] = survival\n",
    "    vol = np.array(list(age_wise[i][\"V\"]))\n",
    "    mean = np.mean(np.array(list(age_wise[i][\"V\"])))\n",
    "    std = np.std(np.array(list(age_wise[i][\"V\"])))\n",
    "    age_wise[i][\"V\"] = (vol - mean)/std\n",
    "    \n",
    "    shape = np.array(list(age_wise[i][\"S\"]))\n",
    "    mean = np.mean(np.array(list(age_wise[i][\"S\"])))\n",
    "    std = np.std(np.array(list(age_wise[i][\"S\"])))\n",
    "    age_wise[i][\"S\"] = (shape - mean)/std\n",
    "    \n",
    "    dist = np.array(list(age_wise[i][\"D\"]))\n",
    "    mean = np.mean(np.array(list(age_wise[i][\"D\"])))\n",
    "    std = np.std(np.array(list(age_wise[i][\"D\"])))\n",
    "    age_wise[i][\"D\"] = (dist - mean)/std"
   ]
  },
  {
   "cell_type": "markdown",
   "id": "aaf75c0f",
   "metadata": {},
   "source": [
    "bias = []\n",
    "for i in age_wise:\n",
    "    x = np.array(age_wise[i][\"V\"]).reshape(-1,1)\n",
    "    y = np.array(age_wise[i][\"Survival\"])\n",
    "    clf = LogisticRegression(penalty = 'none',random_state=0,max_iter=10000).fit(x, y)\n",
    "    bias.append(clf.intercept_)\n",
    "    plt.plot(np.linspace(-2,1).reshape(-1,1),clf.predict_proba(np.linspace(-2,1).reshape(-1,1))[:,-1])\n",
    "plt.scatter([0,1,2,3,4],bias)    "
   ]
  },
  {
   "cell_type": "markdown",
   "id": "7896f8ef",
   "metadata": {},
   "source": [
    "from tensorflow.keras.models import Sequential\n",
    "from tensorflow.keras.layers import Dense"
   ]
  },
  {
   "cell_type": "markdown",
   "id": "c3c32300",
   "metadata": {},
   "source": [
    "bias_new = []\n",
    "for i in age_wise:\n",
    "    x = np.array(age_wise[i][\"V\"]).reshape(-1,1)\n",
    "    y = np.array(age_wise[i][\"Survival\"]).reshape(-1,1)\n",
    "    number_of_classes = 1\n",
    "    number_of_features = x.shape[1]\n",
    "    model = Sequential()\n",
    "    model.add(Dense(number_of_classes,activation = 'sigmoid',input_dim = number_of_features))\n",
    "    model.compile(optimizer='adam', loss='mean_squared_error')\n",
    "    model.fit(x, y,epochs = 100,verbose = 0)\n",
    "    bias_new.append(Dense.get_weights(model)[1][0])"
   ]
  },
  {
   "cell_type": "markdown",
   "id": "6146d421",
   "metadata": {},
   "source": [
    "bias = []\n",
    "weights = [[],[],[]]\n",
    "for i in age_wise:\n",
    "    x1 = np.array(age_wise[i][\"V\"]).reshape(-1,1)\n",
    "    x2 = np.array(age_wise[i][\"S\"]).reshape(-1,1)\n",
    "    x3 = np.array(age_wise[i][\"D\"]).reshape(-1,1)\n",
    "    x = np.concatenate([x1,x2,x3],axis = 1)\n",
    "    y = np.array(age_wise[i][\"Survival\"])\n",
    "    clf = LogisticRegression(penalty = 'none',random_state=0,max_iter=10000).fit(x, y)\n",
    "    bias.append(clf.intercept_)\n",
    "    weights[0].append(clf.coef_[0][0])\n",
    "    weights[1].append(clf.coef_[0][1])\n",
    "    weights[2].append(clf.coef_[0][2])\n",
    "plt.scatter([0,1,2,3,4],bias)    "
   ]
  },
  {
   "cell_type": "markdown",
   "id": "d67c9c49",
   "metadata": {},
   "source": [
    "bias_new = []\n",
    "weights_new = [[],[],[]]\n",
    "for i in age_wise:\n",
    "    x1 = np.array(age_wise[i][\"V\"]).reshape(-1,1)\n",
    "    x2 = np.array(age_wise[i][\"S\"]).reshape(-1,1)\n",
    "    x3 = np.array(age_wise[i][\"D\"]).reshape(-1,1)\n",
    "    x = np.concatenate([x1,x2,x3],axis = 1)\n",
    "    y = np.array(age_wise[i][\"Survival\"]).reshape(-1,1)\n",
    "    number_of_classes = 1\n",
    "    number_of_features = x.shape[1]\n",
    "    model = Sequential()\n",
    "    model.add(Dense(number_of_classes,activation = 'sigmoid',input_dim = number_of_features))\n",
    "    model.compile(optimizer='adam', loss='mean_squared_error')\n",
    "    model.fit(x, y,epochs = 100,verbose = 0)\n",
    "    bias_new.append(Dense.get_weights(model)[1][0])\n",
    "    weights_new[0].append(Dense.get_weights(model)[0][0][0])\n",
    "    weights_new[1].append(Dense.get_weights(model)[0][1][0])\n",
    "    weights_new[2].append(Dense.get_weights(model)[0][2][0])"
   ]
  },
  {
   "cell_type": "code",
   "execution_count": null,
   "id": "e3a9b5d9",
   "metadata": {},
   "outputs": [],
   "source": [
    "for i in age_wise:\n",
    "    for j in age_wise:\n",
    "        if i == j:\n",
    "            age_wise[i][j] = np.ones(len(age_wise[i]))\n",
    "        else:\n",
    "            age_wise[i][j] = np.zeros(len(age_wise[i]))"
   ]
  },
  {
   "cell_type": "code",
   "execution_count": null,
   "id": "a7a563ec",
   "metadata": {
    "scrolled": true
   },
   "outputs": [],
   "source": [
    "age_wise[\"older\"]"
   ]
  },
  {
   "cell_type": "code",
   "execution_count": null,
   "id": "e1fbf0d4",
   "metadata": {},
   "outputs": [],
   "source": [
    "for i in age_wise:\n",
    "    survival = []\n",
    "    for index,j in age_wise[i].iterrows():\n",
    "        if j.Last_Observed > j.Imaging_Session:\n",
    "            survival.append(1)\n",
    "        else:\n",
    "            survival.append(0)\n",
    "    age_wise[i][\"Survival\"] = survival"
   ]
  },
  {
   "cell_type": "code",
   "execution_count": null,
   "id": "66537d8f",
   "metadata": {
    "scrolled": true
   },
   "outputs": [],
   "source": [
    "all_ages = pd.DataFrame()\n",
    "for i in age_wise:\n",
    "    all_ages = all_ages.append(age_wise[i])"
   ]
  },
  {
   "cell_type": "code",
   "execution_count": null,
   "id": "98e94815",
   "metadata": {},
   "outputs": [],
   "source": [
    "all_ages"
   ]
  },
  {
   "cell_type": "code",
   "execution_count": null,
   "id": "08070f6b",
   "metadata": {},
   "outputs": [],
   "source": [
    "x0 = np.array(all_ages[\"age0\"]).reshape(-1,1)\n",
    "x1 = np.array(all_ages[\"age1\"]).reshape(-1,1)\n",
    "x2 = np.array(all_ages[\"age2\"]).reshape(-1,1)\n",
    "x3 = np.array(all_ages[\"age3\"]).reshape(-1,1)\n",
    "x4 = np.array(all_ages[\"older\"]).reshape(-1,1)\n",
    "x5 = StandardScaler().fit_transform(np.array(all_ages[\"V\"]).reshape(-1,1))\n",
    "x = np.concatenate([x0,x1,x2,x3,x4,x5],axis = 1)\n",
    "y = np.array(all_ages[\"Survival\"])\n",
    "clf = LogisticRegression(penalty = 'none' , random_state=0 , max_iter=10000 , fit_intercept=False).fit(x, y)"
   ]
  },
  {
   "cell_type": "code",
   "execution_count": null,
   "id": "94f42f1b",
   "metadata": {},
   "outputs": [],
   "source": [
    "print(clf.coef_)\n",
    "log_loss(y, clf.predict_proba(x))"
   ]
  },
  {
   "cell_type": "code",
   "execution_count": null,
   "id": "c7e99365",
   "metadata": {
    "scrolled": true
   },
   "outputs": [],
   "source": [
    "model = sm.Logit(y, x)\n",
    "result = model.fit()\n",
    "result.summary(alpha = .32)\n"
   ]
  },
  {
   "cell_type": "code",
   "execution_count": null,
   "id": "d6dc4bc9",
   "metadata": {
    "scrolled": false
   },
   "outputs": [],
   "source": [
    "coef = clf.coef_[0][:-1]\n",
    "intervals = result.conf_int(0.32)[:-1]\n",
    "plt.scatter(np.linspace(0,4,5),coef,marker = 'o')\n",
    "plt.xlabel(\"Spine Age (days)\")\n",
    "plt.ylabel(\"Age Coefficients \" + \"$ b_{i}$\")\n",
    "for i in range(len(intervals)):\n",
    "    plt.vlines(i,intervals[i][0],intervals[i][1])\n",
    "    plt.hlines(intervals[i][0],i-0.1,i+0.1)\n",
    "    plt.hlines(intervals[i][1],i-0.1,i+0.1)\n",
    "plt.xticks([0,1,2,3,4],[0,4,8,12,16])"
   ]
  },
  {
   "cell_type": "code",
   "execution_count": null,
   "id": "d77f20b8",
   "metadata": {},
   "outputs": [],
   "source": [
    "v = np.linspace(-1,3).reshape(-1,1)\n",
    "\n",
    "ones = np.ones((len(v),1))\n",
    "zeros = np.zeros((len(v),1))\n",
    "\n",
    "x1 = np.concatenate([ones,zeros,zeros,zeros,zeros,v],axis = 1)\n",
    "\n",
    "x2 = np.concatenate([zeros,ones,zeros,zeros,zeros,v],axis = 1)\n",
    "\n",
    "x3 = np.concatenate([zeros,zeros,ones,zeros,zeros,v],axis = 1)\n",
    "\n",
    "x4 = np.concatenate([zeros,zeros,zeros,ones,zeros,v],axis = 1)\n",
    "\n",
    "x5 = np.concatenate([zeros,zeros,zeros,zeros,ones,v],axis = 1)"
   ]
  },
  {
   "cell_type": "code",
   "execution_count": null,
   "id": "5016e0ee",
   "metadata": {},
   "outputs": [],
   "source": [
    "v_age0 = list(age_wise[\"age0\"][\"V\"])\n",
    "surv_age0 = list(age_wise[\"age0\"][\"Survival\"])\n",
    "arr = zip(v_age0,surv_age0)\n",
    "v_age0,surv_age0 = zip(*sorted(arr, key = lambda x:x[0]))\n",
    "v_age0 = np.array(v_age0).reshape(-1,1)\n",
    "surv_age0 = np.array(surv_age0).reshape(-1,1)\n",
    "vs_age0 = np.concatenate((v_age0,surv_age0),axis = 1)\n",
    "\n",
    "v_age1 = list(age_wise[\"age1\"][\"V\"])\n",
    "surv_age1 = list(age_wise[\"age1\"][\"Survival\"])\n",
    "arr = zip(v_age1,surv_age1)\n",
    "v_age1,surv_age1 = zip(*sorted(arr, key = lambda x:x[0]))\n",
    "v_age1 = np.array(v_age1).reshape(-1,1)\n",
    "surv_age1 = np.array(surv_age1).reshape(-1,1)\n",
    "vs_age1 = np.concatenate((v_age1,surv_age1),axis = 1)\n",
    "\n",
    "v_age2 = list(age_wise[\"age2\"][\"V\"])\n",
    "surv_age2 = list(age_wise[\"age2\"][\"Survival\"])\n",
    "arr = zip(v_age2,surv_age2)\n",
    "v_age2,surv_age2 = zip(*sorted(arr, key = lambda x:x[0]))\n",
    "v_age2 = np.array(v_age2).reshape(-1,1)\n",
    "surv_age2 = np.array(surv_age2).reshape(-1,1)\n",
    "vs_age2 = np.concatenate((v_age2,surv_age2),axis = 1)\n",
    "\n",
    "v_age3 = list(age_wise[\"age3\"][\"V\"])\n",
    "surv_age3 = list(age_wise[\"age3\"][\"Survival\"])\n",
    "arr = zip(v_age3,surv_age3)\n",
    "v_age3,surv_age3 = zip(*sorted(arr, key = lambda x:x[0]))\n",
    "v_age3 = np.array(v_age3).reshape(-1,1)\n",
    "surv_age3 = np.array(surv_age3).reshape(-1,1)\n",
    "vs_age3 = np.concatenate((v_age3,surv_age3),axis = 1)\n",
    "\n",
    "v_older = list(age_wise[\"older\"][\"V\"])\n",
    "surv_older= list(age_wise[\"older\"][\"Survival\"])\n",
    "arr = zip(v_older,surv_older)\n",
    "v_older,surv_older = zip(*sorted(arr, key = lambda x:x[0]))\n",
    "v_older = np.array(v_older).reshape(-1,1)\n",
    "surv_older = np.array(surv_older).reshape(-1,1)\n",
    "vs_older = np.concatenate((v_older,surv_older),axis = 1)\n",
    "\n",
    "v_agewise = {\"age0\":vs_age0,\"age1\":vs_age1,\"age2\":vs_age2,\"age3\":vs_age3,\"older\":vs_older}"
   ]
  },
  {
   "cell_type": "code",
   "execution_count": null,
   "id": "a05fbd7c",
   "metadata": {
    "scrolled": true
   },
   "outputs": [],
   "source": [
    "v_avg = np.empty((4,5),dtype = float)\n",
    "v_std = np.empty((4,5))\n",
    "prob = np.empty((4,5))\n",
    "prob_sem = np.empty((4,5))\n",
    "k = 0\n",
    "all_vol = np.array(all_ages[\"V\"]).reshape(-1,1)\n",
    "v_mean = np.mean(all_vol)\n",
    "v_stdev = np.std(all_vol)\n",
    "for i in v_agewise:\n",
    "    vol = v_agewise[i][:,0]\n",
    "    vol = (vol-v_mean)/v_stdev\n",
    "    p = v_agewise[i][:,1]\n",
    "    for j in range (4):\n",
    "        n = len(vol)\n",
    "        v_avg[j,k] = np.mean(vol[int(j/4 * n) : int((j+1)/4 * n)-1])\n",
    "        v_std[j,k] = np.std(vol[int(j/4 * n) : int((j+1)/4 * n)-1])\n",
    "        prob[j,k] = np.mean(p[int(j/4 * n) : int((j+1)/4 * n)-1])\n",
    "        prob_sem[j,k] = sem(p[int(j/4 * n) : int((j+1)/4 * n)-1])\n",
    "    k += 1"
   ]
  },
  {
   "cell_type": "code",
   "execution_count": null,
   "id": "c0ec7026",
   "metadata": {
    "scrolled": true
   },
   "outputs": [],
   "source": [
    "plt.plot(v,clf.predict_proba(x1)[:,1],label = '0-4 days',color = \"blue\")\n",
    "plt.plot(v,clf.predict_proba(x2)[:,1],label = '4-8 days',color = \"orange\")\n",
    "plt.plot(v,clf.predict_proba(x3)[:,1],label = '8-12 days',color = \"green\")\n",
    "plt.plot(v,clf.predict_proba(x4)[:,1],label = '12-16 days',color = \"red\")\n",
    "plt.plot(v,clf.predict_proba(x5)[:,1],label = 'older',color = \"purple\")\n",
    "\n",
    "ones = np.ones((4,1))\n",
    "zeros = np.zeros((4,1))\n",
    "colors = [\"blue\",\"orange\",\"green\",\"red\",\"purple\"]\n",
    "for i in range(5):\n",
    "    plt.scatter(v_avg[:,i],prob[:,i],color = colors[i])\n",
    "    plt.hlines(prob[:,i],v_avg[:,i] - v_std[:,i],v_avg[:,i] + v_std[:,i],color = colors[i])\n",
    "    plt.vlines(v_avg[:,i],prob[:,i] - prob_sem[:,i],prob[:,i] + prob_sem[:,i],color = colors[i])\n",
    "\n",
    "plt.legend()\n",
    "#plt.xticks([-1.5,-.5,.5,1.5], [0,1,1.5,2])\n",
    "plt.xlabel(\"V (a.u)\")\n",
    "plt.ylabel(\"Probability of Survival\")"
   ]
  },
  {
   "cell_type": "markdown",
   "id": "f51fa0ca",
   "metadata": {},
   "source": [
    "number_of_classes = 1\n",
    "number_of_features = x.shape[1]\n",
    "model = Sequential()\n",
    "model.add(Dense(number_of_classes,activation = 'sigmoid',input_dim = number_of_features,use_bias = False))\n",
    "model.compile(optimizer='adam', loss='mean_squared_error')\n",
    "model.fit(x, y,epochs = 100,verbose = 0)\n",
    "Dense.get_weights(model)"
   ]
  },
  {
   "cell_type": "markdown",
   "id": "affa9c4e",
   "metadata": {},
   "source": [
    "### Comprehensive  Model"
   ]
  },
  {
   "cell_type": "code",
   "execution_count": null,
   "id": "41e44941",
   "metadata": {},
   "outputs": [],
   "source": [
    "x0 = np.array(all_ages[\"age0\"]).reshape(-1,1)\n",
    "x1 = np.array(all_ages[\"age1\"]).reshape(-1,1)\n",
    "x2 = np.array(all_ages[\"age2\"]).reshape(-1,1)\n",
    "x3 = np.array(all_ages[\"age3\"]).reshape(-1,1)\n",
    "x4 = np.array(all_ages[\"older\"]).reshape(-1,1)\n",
    "x5 = StandardScaler().fit_transform(np.array(all_ages[\"V\"]).reshape(-1,1))\n",
    "x6 = StandardScaler().fit_transform(np.array(all_ages[\"S\"]).reshape(-1,1))\n",
    "x7 = StandardScaler().fit_transform(np.array(all_ages[\"D\"]).reshape(-1,1))\n",
    "x = np.concatenate([x0,x1,x2,x3,x4,x5,x6,x7],axis = 1)\n",
    "y = np.array(all_ages[\"Survival\"])\n",
    "clf = LogisticRegression(penalty = 'none',random_state=0,max_iter=10000,fit_intercept=False).fit(x, y)"
   ]
  },
  {
   "cell_type": "code",
   "execution_count": null,
   "id": "fb130f30",
   "metadata": {},
   "outputs": [],
   "source": [
    "model = sm.Logit(y, x)\n",
    "result = model.fit()\n",
    "result.summary(alpha = .32)"
   ]
  },
  {
   "cell_type": "code",
   "execution_count": null,
   "id": "9d3dbfea",
   "metadata": {
    "scrolled": false
   },
   "outputs": [],
   "source": [
    "coef = clf.coef_[0][:-3]\n",
    "intervals = result.conf_int(0.32)[:-3]\n",
    "plt.scatter(np.linspace(0,4,5),coef,marker = 'o')\n",
    "plt.xlabel(\"Spine Age (days)\")\n",
    "plt.ylabel(\"Age Coefficients \" + \"$ b_{i}$\")\n",
    "for i in range(len(intervals)):\n",
    "    plt.vlines(i,intervals[i][0],intervals[i][1])\n",
    "    plt.hlines(intervals[i][0],i-0.1,i+0.1)\n",
    "    plt.hlines(intervals[i][1],i-0.1,i+0.1)\n",
    "plt.xticks([0,1,2,3,4],[0,4,8,12,16])"
   ]
  },
  {
   "cell_type": "code",
   "execution_count": null,
   "id": "17ff19df",
   "metadata": {},
   "outputs": [],
   "source": [
    "x = np.array([1,2,3])\n",
    "plt.bar(x,clf.coef_[0][-3:])\n",
    "plt.scatter(x,clf.coef_[0][-3:])\n",
    "plt.vlines(x,result.conf_int(0.32)[-3:][:,0],result.conf_int(0.32)[-3:][:,1])\n",
    "plt.hlines(result.conf_int(0.32)[-3:][:,1],x+.1,x-.1)\n",
    "plt.hlines(result.conf_int(0.32)[-3:][:,0],x+.1,x-.1)\n",
    "plt.xticks([1,2,3], [\"$w_{V}$\",\"$w_{S}$\",\"$w_{D}$\"])\n",
    "plt.xlabel(\"Weights\")\n",
    "plt.ylabel(\"Morphological Coefficients\")"
   ]
  },
  {
   "cell_type": "code",
   "execution_count": null,
   "id": "81a8a0f9",
   "metadata": {},
   "outputs": [],
   "source": [
    "all_ages.to_excel(\"Data.xlsx\")"
   ]
  },
  {
   "cell_type": "markdown",
   "id": "bbbf7b95",
   "metadata": {},
   "source": [
    "v = np.array([])\n",
    "s = np.array([])\n",
    "d = np.array([])\n",
    "for i in range (1,9):\n",
    "    temp = df[df.Neuron_Index == i]\n",
    "    dendrite_values = set(temp.Dendrite_Index)\n",
    "    for j in dendrite_values:\n",
    "        for k in range (1,7):\n",
    "            v = np.append(v,np.array(list(data[\"Neuron{0}\".format(i)][\"Dendrite{0}\".format(j)][\"Session{0}\".format(k)][\"V\"])))\n",
    "            s = np.append(s,np.array(list(data[\"Neuron{0}\".format(i)][\"Dendrite{0}\".format(j)][\"Session{0}\".format(k)][\"S\"])))\n",
    "            d = np.append(d,np.array(list(data[\"Neuron{0}\".format(i)][\"Dendrite{0}\".format(j)][\"Session{0}\".format(k)][\"D\"])))\n",
    "\n",
    "xmin, xmax = plt.xlim()\n",
    "x = np.linspace(xmin, xmax, 100)\n",
    "p = norm.pdf(x, mu, std)\n",
    "plt.plot(x, p, 'k', linewidth=2)"
   ]
  },
  {
   "cell_type": "markdown",
   "id": "c44eb052",
   "metadata": {},
   "source": [
    "mean = np.mean(v)\n",
    "std = np.std(v)\n",
    "v = (v - mean)/std\n",
    "\n",
    "mean = np.mean(s)\n",
    "std = np.std(s)\n",
    "s = (s - mean)/std\n",
    "\n",
    "mean = np.mean(d)\n",
    "std = np.std(d)\n",
    "d = (d - mean)/std"
   ]
  },
  {
   "cell_type": "markdown",
   "id": "6be8581d",
   "metadata": {},
   "source": [
    "##### Normalising the Dataset Completely"
   ]
  },
  {
   "cell_type": "markdown",
   "id": "b351ea60",
   "metadata": {},
   "source": [
    "v = []\n",
    "s = []\n",
    "d = []\n",
    "for i in range (1,9):\n",
    "    temp = df[df.Neuron_Index == i]\n",
    "    dendrite_values = set(temp.Dendrite_Index)\n",
    "    for j in dendrite_values:\n",
    "        for k in range (1,7):\n",
    "            v = np.append(v,np.array(list(data[\"Neuron{0}\".format(i)][\"Dendrite{0}\".format(j)][\"Session{0}\".format(k)][\"V\"])))\n",
    "            s = np.append(v,np.array(list(data[\"Neuron{0}\".format(i)][\"Dendrite{0}\".format(j)][\"Session{0}\".format(k)][\"S\"])))\n",
    "            d = np.append(v,np.array(list(data[\"Neuron{0}\".format(i)][\"Dendrite{0}\".format(j)][\"Session{0}\".format(k)][\"D\"])))"
   ]
  },
  {
   "cell_type": "markdown",
   "id": "83811bff",
   "metadata": {},
   "source": [
    "v_mean = np.mean(v)\n",
    "v_std = np.std(v)\n",
    "\n",
    "s_mean = np.mean(s)\n",
    "s_std = np.std(s)\n",
    "\n",
    "d_mean = np.mean(d)\n",
    "d_std = np.std(d)\n"
   ]
  },
  {
   "cell_type": "markdown",
   "id": "3c900343",
   "metadata": {},
   "source": [
    "for i in range (1,9):\n",
    "    temp = df[df.Neuron_Index == i]\n",
    "    dendrite_values = set(temp.Dendrite_Index)\n",
    "    for j in dendrite_values:\n",
    "        for k in range (1,7):\n",
    "            data[\"Neuron{0}\".format(i)][\"Dendrite{0}\".format(j)][\"Session{0}\".format(k)][\"V\"] = (data[\"Neuron{0}\".format(i)][\"Dendrite{0}\".format(j)][\"Session{0}\".format(k)][\"V\"] - v_mean)/v_std\n",
    "            data[\"Neuron{0}\".format(i)][\"Dendrite{0}\".format(j)][\"Session{0}\".format(k)][\"S\"] = (data[\"Neuron{0}\".format(i)][\"Dendrite{0}\".format(j)][\"Session{0}\".format(k)][\"S\"] - s_mean)/s_std\n",
    "            data[\"Neuron{0}\".format(i)][\"Dendrite{0}\".format(j)][\"Session{0}\".format(k)][\"D\"] = (data[\"Neuron{0}\".format(i)][\"Dendrite{0}\".format(j)][\"Session{0}\".format(k)][\"D\"] - d_mean)/d_std"
   ]
  },
  {
   "cell_type": "markdown",
   "id": "0439687a",
   "metadata": {},
   "source": [
    "### Comprehensive Time Dependent Parametric Model"
   ]
  },
  {
   "cell_type": "code",
   "execution_count": null,
   "id": "399d41a4",
   "metadata": {},
   "outputs": [],
   "source": [
    "session2 = pd.DataFrame()\n",
    "for i in range (1,9):\n",
    "    temp = df[df.Neuron_Index == i]\n",
    "    dendrite_values = set(temp.Dendrite_Index)\n",
    "    for j in dendrite_values:\n",
    "        session2 = session2.append(data[\"Neuron{0}\".format(i)][\"Dendrite{0}\".format(j)][\"Session2\"])"
   ]
  },
  {
   "cell_type": "code",
   "execution_count": null,
   "id": "ae97a35d",
   "metadata": {},
   "outputs": [],
   "source": [
    "session2"
   ]
  },
  {
   "cell_type": "code",
   "execution_count": null,
   "id": "ad25b1fe",
   "metadata": {},
   "outputs": [],
   "source": [
    "age0 = []\n",
    "older = []\n",
    "for index,j in session2.iterrows():\n",
    "    if j.Current_Age > 0:\n",
    "        age0.append(0)\n",
    "        older.append(1)\n",
    "    else:\n",
    "        age0.append(1)\n",
    "        older.append(0)\n",
    "session2[\"age0\"] = age0\n",
    "session2[\"older\"] = older"
   ]
  },
  {
   "cell_type": "code",
   "execution_count": null,
   "id": "e3594e6e",
   "metadata": {},
   "outputs": [],
   "source": [
    "survival = []\n",
    "check_session = 6\n",
    "for index,j in session2.iterrows():\n",
    "    if j.Last_Observed >= check_session:\n",
    "        survival.append(1)\n",
    "    else:\n",
    "        survival.append(0)\n",
    "session2[\"Survival\"] = survival\n"
   ]
  },
  {
   "cell_type": "code",
   "execution_count": null,
   "id": "c43ffcec",
   "metadata": {},
   "outputs": [],
   "source": [
    "x0 = np.array(session2[\"age0\"]).reshape(-1,1)\n",
    "x1 = np.array(session2[\"older\"]).reshape(-1,1)\n",
    "x2 = StandardScaler().fit_transform(np.array(session2[\"V\"]).reshape(-1,1))\n",
    "x3 = StandardScaler().fit_transform(np.array(session2[\"S\"]).reshape(-1,1))\n",
    "x4 = StandardScaler().fit_transform(np.array(session2[\"D\"]).reshape(-1,1))\n",
    "\n",
    "x = np.concatenate([x0,x1,x2],axis = 1)\n",
    "y = np.array(session2[\"Survival\"])\n",
    "#x = np.ones((len(y),1))\n",
    "clf = LogisticRegression(penalty = 'none',random_state=0,max_iter=10000,fit_intercept=False).fit(x, y)"
   ]
  },
  {
   "cell_type": "code",
   "execution_count": null,
   "id": "2847840c",
   "metadata": {},
   "outputs": [],
   "source": [
    "print(clf.intercept_)\n",
    "print(clf.coef_)\n",
    "len(x) * log_loss(y, clf.predict_proba(x))"
   ]
  },
  {
   "cell_type": "code",
   "execution_count": null,
   "id": "cf6a0ab3",
   "metadata": {},
   "outputs": [],
   "source": [
    "model = sm.Logit(y, x)\n",
    "result = model.fit()\n",
    "result.summary(alpha = .32)"
   ]
  },
  {
   "cell_type": "code",
   "execution_count": null,
   "id": "56592f18",
   "metadata": {},
   "outputs": [],
   "source": [
    "vol = session2[\"V\"]\n",
    "size = session2[\"S\"]\n",
    "dist = session2[\"D\"]\n",
    "age0 = session2[\"age0\"]\n",
    "older = session2[\"older\"]\n",
    "last_observed = session2[\"Last_Observed\"]\n",
    "arr = zip(age0,older,vol,size,dist,last_observed)\n",
    "age0,older,vol,size,dist,last_observed = zip(*sorted(arr, key = lambda x:-1*x[-1]))"
   ]
  },
  {
   "cell_type": "code",
   "execution_count": null,
   "id": "467a1c6a",
   "metadata": {},
   "outputs": [],
   "source": [
    "for i in range(len(last_observed)):\n",
    "    plt.hlines(i+1,1,last_observed[i])\n",
    "plt.ylabel(\"Spine Number\")\n",
    "plt.xlabel(\"Days\")\n",
    "plt.xticks([1,2,3,4,5,6], [4,8,12,16,20,24])\n",
    "plt.title(\"Empirical Data\")"
   ]
  },
  {
   "cell_type": "code",
   "execution_count": null,
   "id": "12523afe",
   "metadata": {},
   "outputs": [],
   "source": [
    "def sigmoid(x):\n",
    "    return 1 / (1 + np.exp(-x))"
   ]
  },
  {
   "cell_type": "code",
   "execution_count": null,
   "id": "6e10c6f3",
   "metadata": {},
   "outputs": [],
   "source": [
    "age0 = np.array(age0).reshape(-1,1)\n",
    "older = np.array(older).reshape(-1,1)\n",
    "vol = StandardScaler().fit_transform(np.array(vol).reshape(-1,1))\n",
    "size = StandardScaler().fit_transform(np.array(size).reshape(-1,1))\n",
    "dist = StandardScaler().fit_transform(np.array(dist).reshape(-1,1))"
   ]
  },
  {
   "cell_type": "code",
   "execution_count": null,
   "id": "97660ffe",
   "metadata": {},
   "outputs": [],
   "source": [
    "params = {0:np.array([0.78980183]).reshape(1,-1),\n",
    "          1:np.array([0.19200686]).reshape(1,-1),\n",
    "          2:np.array([-0.05413863]).reshape(1,-1),\n",
    "          3:np.array([-0.30464469]).reshape(1,-1)}\n",
    "x = np.concatenate([np.ones((len(vol),1))],axis = 1)"
   ]
  },
  {
   "cell_type": "code",
   "execution_count": null,
   "id": "0775bbb5",
   "metadata": {},
   "outputs": [],
   "source": [
    "for i in range(len(vol)):\n",
    "    plt.hlines(i+1,1,2)\n",
    "for i in range(4):\n",
    "    z = np.dot(params[i],np.transpose(x))\n",
    "    y = sigmoid(z)\n",
    "    for j in range(np.shape(y)[1]):\n",
    "        plt.hlines(j+1,i+2,i+3,alpha = (y[0][j])/6)\n",
    "plt.xlabel(\"Days\")\n",
    "plt.ylabel(\"Spine Number\")\n",
    "plt.xticks([1,2,3,4,5,6], [4,8,12,16,20,24])\n",
    "plt.title(\"Naive Model\")"
   ]
  },
  {
   "cell_type": "markdown",
   "id": "b3815e5d",
   "metadata": {},
   "source": [
    "### K-Means Clustering"
   ]
  },
  {
   "cell_type": "code",
   "execution_count": null,
   "id": "2c1f67ed",
   "metadata": {},
   "outputs": [],
   "source": [
    "x0 = np.array(all_ages[\"V\"]).reshape(-1,1)\n",
    "x1 = np.array(all_ages[\"S\"]).reshape(-1,1)\n",
    "x2 = np.array(all_ages[\"D\"]).reshape(-1,1)\n",
    "x3 = np.array(all_ages[\"age0\"]).reshape(-1,1)\n",
    "x4 = np.array(all_ages[\"age1\"]).reshape(-1,1)\n",
    "x5 = np.array(all_ages[\"age2\"]).reshape(-1,1)\n",
    "x6 = np.array(all_ages[\"age3\"]).reshape(-1,1)\n",
    "x7 = np.array(all_ages[\"older\"]).reshape(-1,1)\n",
    "\n",
    "x = np.concatenate([x0,x1,x2,x3,x4,x5,x6,x7],axis = 1)\n",
    "y = np.array(all_ages[\"Survival\"])\n",
    "x_train, x_test, y_train, y_test = train_test_split(x, y, test_size = 0.2)\n",
    "\n",
    "model = KNeighborsClassifier(n_neighbors = 101)"
   ]
  },
  {
   "cell_type": "code",
   "execution_count": null,
   "id": "d6584101",
   "metadata": {},
   "outputs": [],
   "source": [
    "model.fit(x_train, y_train)\n",
    "y_pred = model.predict(x_test)"
   ]
  },
  {
   "cell_type": "code",
   "execution_count": null,
   "id": "102edb3e",
   "metadata": {},
   "outputs": [],
   "source": [
    "#log_loss(y_test, y_pred, eps=1e-15, normalize=False, sample_weight=None, labels=None)\n",
    "rep = classification_report(y_test, y_pred,output_dict = True)\n",
    "print(classification_report(y_test, y_pred))"
   ]
  },
  {
   "cell_type": "code",
   "execution_count": null,
   "id": "51141f6d",
   "metadata": {},
   "outputs": [],
   "source": [
    "rep[\"macro avg\"][\"f1-score\"]"
   ]
  },
  {
   "cell_type": "code",
   "execution_count": null,
   "id": "b134ae8a",
   "metadata": {
    "scrolled": true
   },
   "outputs": [],
   "source": [
    "errors = []\n",
    "for i in range (1,333,2):\n",
    "    model = KNeighborsClassifier(n_neighbors = i)\n",
    "    model.fit(x_train, y_train)\n",
    "    y_pred = model.predict(x_test)\n",
    "    errors.append(np.mean(y_pred != y_test))\n",
    "plt.plot(errors)"
   ]
  },
  {
   "cell_type": "code",
   "execution_count": null,
   "id": "138288b5",
   "metadata": {},
   "outputs": [],
   "source": [
    "model = KNeighborsClassifier(n_neighbors = 55)\n",
    "f1 = []\n",
    "for i in range (1000):\n",
    "    x_train, x_test, y_train, y_test = train_test_split(x, y, test_size = 0.2)\n",
    "    model.fit(x_train, y_train)\n",
    "    y_pred = model.predict(x_test)\n",
    "    rep = classification_report(y_test, y_pred,output_dict = True)\n",
    "    f1.append(rep[\"macro avg\"][\"f1-score\"])"
   ]
  },
  {
   "cell_type": "code",
   "execution_count": null,
   "id": "6d3dfdb2",
   "metadata": {
    "scrolled": true
   },
   "outputs": [],
   "source": [
    "np.mean(f1)"
   ]
  },
  {
   "cell_type": "markdown",
   "id": "1275d522",
   "metadata": {},
   "source": [
    "### Comprehensive model with complete dataset"
   ]
  },
  {
   "cell_type": "code",
   "execution_count": null,
   "id": "57e5db1b",
   "metadata": {},
   "outputs": [],
   "source": [
    "final_data = pd.DataFrame()\n",
    "for i in range (1,9):\n",
    "    temp = df[df.Neuron_Index == i]\n",
    "    dendrite_values = set(temp.Dendrite_Index)\n",
    "    for j in dendrite_values:\n",
    "        for k in range(2,4):\n",
    "            final_data = final_data.append(data[\"Neuron{0}\".format(i)][\"Dendrite{0}\".format(j)][\"Session{0}\".format(k)])"
   ]
  },
  {
   "cell_type": "code",
   "execution_count": null,
   "id": "2b27af11",
   "metadata": {},
   "outputs": [],
   "source": [
    "survival = []\n",
    "for index,j in final_data.iterrows():\n",
    "    if j.Last_Observed > j.Imaging_Session+2:\n",
    "        survival.append(1)\n",
    "    else:\n",
    "        survival.append(0)\n",
    "final_data[\"Survival\"] = survival"
   ]
  },
  {
   "cell_type": "code",
   "execution_count": null,
   "id": "1ddbac5f",
   "metadata": {},
   "outputs": [],
   "source": [
    "age0 = []\n",
    "older = []\n",
    "for index,j in final_data.iterrows():\n",
    "    if j.Current_Age > 0:\n",
    "        age0.append(0)\n",
    "        older.append(1)\n",
    "    else:\n",
    "        age0.append(1)\n",
    "        older.append(0)\n",
    "final_data[\"age0\"] = age0\n",
    "final_data[\"older\"] = older"
   ]
  },
  {
   "cell_type": "code",
   "execution_count": null,
   "id": "a24d472b",
   "metadata": {},
   "outputs": [],
   "source": [
    "x0 = np.array(final_data[\"age0\"]).reshape(-1,1)\n",
    "x1 = np.array(final_data[\"older\"]).reshape(-1,1)\n",
    "x2 = StandardScaler().fit_transform(np.array(final_data[\"V\"]).reshape(-1,1))\n",
    "x3 = StandardScaler().fit_transform(np.array(final_data[\"S\"]).reshape(-1,1))\n",
    "x4 = StandardScaler().fit_transform(np.array(final_data[\"D\"]).reshape(-1,1))\n",
    "x = np.concatenate([np.ones(len(x2)).reshape(-1,1),x2],axis = 1)\n",
    "y = np.array(final_data[\"Survival\"])\n",
    "x = np.ones(len(x2)).reshape(-1,1)"
   ]
  },
  {
   "cell_type": "code",
   "execution_count": null,
   "id": "d43a91d6",
   "metadata": {},
   "outputs": [],
   "source": [
    "clf = LogisticRegression(penalty = 'none',random_state=0,max_iter=10000,fit_intercept=False).fit(x, y)\n",
    "print(clf.intercept_)\n",
    "print(clf.coef_)\n",
    "from sklearn.metrics import log_loss\n",
    "log_loss(y, clf.predict_proba(x))"
   ]
  },
  {
   "cell_type": "code",
   "execution_count": null,
   "id": "567fde2d",
   "metadata": {},
   "outputs": [],
   "source": [
    "model = sm.Logit(y, x)\n",
    "result = model.fit()\n",
    "result.summary(alpha = .32)"
   ]
  },
  {
   "cell_type": "markdown",
   "id": "560a23de",
   "metadata": {},
   "source": [
    "### Neuron wise regression"
   ]
  },
  {
   "cell_type": "code",
   "execution_count": null,
   "id": "3572d8c9",
   "metadata": {},
   "outputs": [],
   "source": [
    "all_ages = all_ages.reset_index()\n",
    "all_ages[\"Neuron1\"] = 0\n",
    "all_ages[\"Neuron2\"] = 0\n",
    "all_ages[\"Neuron3\"] = 0\n",
    "all_ages[\"Neuron4\"] = 0\n",
    "all_ages[\"Neuron5\"] = 0\n",
    "all_ages[\"Neuron6\"] = 0\n",
    "all_ages[\"Neuron7\"] = 0\n",
    "all_ages[\"Neuron8\"] = 0"
   ]
  },
  {
   "cell_type": "code",
   "execution_count": null,
   "id": "7f6e36d0",
   "metadata": {},
   "outputs": [],
   "source": [
    "all_ages.columns"
   ]
  },
  {
   "cell_type": "code",
   "execution_count": null,
   "id": "a826a624",
   "metadata": {},
   "outputs": [],
   "source": [
    "for index,j in all_ages.iterrows():\n",
    "    all_ages.at[index,\"Neuron{0}\".format(int(j.Neuron_Index))] = 1"
   ]
  },
  {
   "cell_type": "code",
   "execution_count": null,
   "id": "b5fffe6f",
   "metadata": {},
   "outputs": [],
   "source": [
    "survival = []\n",
    "for index,j in all_ages.iterrows():\n",
    "    if j.Last_Observed > j.Imaging_Session:\n",
    "        survival.append(1)\n",
    "    else:\n",
    "        survival.append(0)\n",
    "        \n",
    "all_ages[\"Survival\"] = survival"
   ]
  },
  {
   "cell_type": "code",
   "execution_count": null,
   "id": "97f92636",
   "metadata": {},
   "outputs": [],
   "source": [
    "x0 = np.array(all_ages[\"age0\"]).reshape(-1,1)\n",
    "x1 = np.array(all_ages[\"age1\"]).reshape(-1,1)\n",
    "x2 = np.array(all_ages[\"age2\"]).reshape(-1,1)\n",
    "x3 = np.array(all_ages[\"age3\"]).reshape(-1,1)\n",
    "x4 = np.array(all_ages[\"older\"]).reshape(-1,1)\n",
    "x5 = StandardScaler().fit_transform(np.array(all_ages[\"V\"]).reshape(-1,1))\n",
    "x6 = StandardScaler().fit_transform(np.array(all_ages[\"S\"]).reshape(-1,1))\n",
    "x7 = StandardScaler().fit_transform(np.array(all_ages[\"D\"]).reshape(-1,1))\n",
    "x8 = np.array(all_ages[\"Neuron1\"]).reshape(-1,1)\n",
    "x9 = np.array(all_ages[\"Neuron2\"]).reshape(-1,1)\n",
    "x10 = np.array(all_ages[\"Neuron3\"]).reshape(-1,1)\n",
    "x11 = np.array(all_ages[\"Neuron4\"]).reshape(-1,1)\n",
    "x12 = np.array(all_ages[\"Neuron5\"]).reshape(-1,1)\n",
    "x13 = np.array(all_ages[\"Neuron6\"]).reshape(-1,1)\n",
    "x14 = np.array(all_ages[\"Neuron7\"]).reshape(-1,1)\n",
    "x15 = np.array(all_ages[\"Neuron8\"]).reshape(-1,1)\n",
    "x = np.concatenate([x0,x1,x2,x3,x4,x5,x6,x7,x8,x9,x10,x11,x12,x13,x14,x15],axis = 1)\n",
    "y = np.array(all_ages[\"Survival\"])"
   ]
  },
  {
   "cell_type": "code",
   "execution_count": null,
   "id": "c6c9fe56",
   "metadata": {},
   "outputs": [],
   "source": [
    "clf = LogisticRegression(penalty = 'none',random_state=0,max_iter=10000,fit_intercept=False).fit(x, y)\n",
    "print(clf.intercept_)\n",
    "print(clf.coef_)\n",
    "from sklearn.metrics import log_loss\n",
    "log_loss(y, clf.predict_proba(x))"
   ]
  },
  {
   "cell_type": "code",
   "execution_count": null,
   "id": "3546d896",
   "metadata": {},
   "outputs": [],
   "source": [
    "model = sm.Logit(y, x)\n",
    "result = model.fit()\n",
    "result.summary(alpha = .32)"
   ]
  },
  {
   "cell_type": "code",
   "execution_count": null,
   "id": "57f3cf40",
   "metadata": {},
   "outputs": [],
   "source": []
  }
 ],
 "metadata": {
  "kernelspec": {
   "display_name": "Python 3 (ipykernel)",
   "language": "python",
   "name": "python3"
  },
  "language_info": {
   "codemirror_mode": {
    "name": "ipython",
    "version": 3
   },
   "file_extension": ".py",
   "mimetype": "text/x-python",
   "name": "python",
   "nbconvert_exporter": "python",
   "pygments_lexer": "ipython3",
   "version": "3.9.7"
  }
 },
 "nbformat": 4,
 "nbformat_minor": 5
}
